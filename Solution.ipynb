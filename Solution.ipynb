{
 "cells": [
  {
   "cell_type": "code",
   "execution_count": 1,
   "metadata": {},
   "outputs": [],
   "source": [
    "import gym\n",
    "import torch\n",
    "import random\n",
    "import numpy as np\n",
    "from collections import namedtuple, deque\n",
    "from torch import nn\n",
    "from gym import make\n",
    "from DQN_agent import Agent, transform_state"
   ]
  },
  {
   "cell_type": "markdown",
   "metadata": {},
   "source": [
    "# Enviroment"
   ]
  },
  {
   "cell_type": "markdown",
   "metadata": {},
   "source": [
    "The environment \"MountainCar-v0\" has a continuous state space, but a discrete action space."
   ]
  },
  {
   "cell_type": "code",
   "execution_count": 2,
   "metadata": {},
   "outputs": [
    {
     "name": "stderr",
     "output_type": "stream",
     "text": [
      "C:\\Users\\persi\\Anaconda3\\lib\\site-packages\\gym\\logger.py:30: UserWarning: WARN: Box bound precision lowered by casting to float32\n",
      "  warnings.warn(colorize('%s: %s'%('WARN', msg % args), 'yellow'))\n"
     ]
    },
    {
     "data": {
      "text/plain": [
       "[1]"
      ]
     },
     "execution_count": 2,
     "metadata": {},
     "output_type": "execute_result"
    }
   ],
   "source": [
    "env = make(\"MountainCar-v0\")\n",
    "env.seed(1)"
   ]
  },
  {
   "cell_type": "code",
   "execution_count": 3,
   "metadata": {},
   "outputs": [
    {
     "name": "stdout",
     "output_type": "stream",
     "text": [
      "State shape:  (2,)\n",
      "- low: [-1.2  -0.07]\n",
      "- high: [0.6  0.07]\n"
     ]
    }
   ],
   "source": [
    "print('State shape: ', env.observation_space.shape) # position and velocity\n",
    "print(\"- low:\", env.observation_space.low) \n",
    "print(\"- high:\", env.observation_space.high)\n",
    "state_dim = env.observation_space.shape[0]"
   ]
  },
  {
   "cell_type": "code",
   "execution_count": 4,
   "metadata": {},
   "outputs": [
    {
     "name": "stdout",
     "output_type": "stream",
     "text": [
      "Number of actions:  3\n"
     ]
    }
   ],
   "source": [
    "print('Number of actions: ', env.action_space.n)\n",
    "action_dim = env.action_space.n"
   ]
  },
  {
   "cell_type": "markdown",
   "metadata": {},
   "source": [
    "# Train the agent"
   ]
  },
  {
   "cell_type": "code",
   "execution_count": 5,
   "metadata": {},
   "outputs": [
    {
     "name": "stdout",
     "output_type": "stream",
     "text": [
      "Episode 100/1000 | Max Average Score: -180.46\n",
      "Episode 200/1000 | Max Average Score: -149.94\n",
      "Episode 300/1000 | Max Average Score: -130.96\n",
      "Episode 400/1000 | Max Average Score: -126.56\n",
      "Episode 500/1000 | Max Average Score: -116.08\n",
      "Episode 600/1000 | Max Average Score: -109.65\n",
      "Episode 700/1000 | Max Average Score: -109.65\n",
      "Episode 800/1000 | Max Average Score: -109.65\n",
      "Episode 900/1000 | Max Average Score: -109.65\n",
      "Episode 1000/1000 | Max Average Score: -109.65\n"
     ]
    }
   ],
   "source": [
    "agent = Agent(state_dim, action_dim, seed=1, lr=0.001)\n",
    "eps = 1\n",
    "max_epsilon = 0.5\n",
    "min_epsilon = 0.1\n",
    "max_steps = 200\n",
    "n_episodes = 1000\n",
    "max_avg_reward = float('-inf')\n",
    "total_reward = 0\n",
    "rewards = []\n",
    "rewards_window = deque(maxlen=100)\n",
    "\n",
    "for i in range(1, n_episodes+1):\n",
    "    eps = max_epsilon - (max_epsilon - min_epsilon) * i / max_steps\n",
    "    state = transform_state(env.reset())\n",
    "    total_reward = 0\n",
    "    done = False\n",
    "    while not done:\n",
    "        if random.random() < eps:\n",
    "            action = random.choice(np.arange(action_dim))\n",
    "        else:\n",
    "            action = agent.act(state)\n",
    "        next_state, reward, done, _ = env.step(action)\n",
    "        total_reward += reward\n",
    "        reward += 15 * (abs(next_state[1])) \n",
    "        next_state = transform_state(next_state)\n",
    "        agent.step((state, action, reward, next_state, done))\n",
    "        state = next_state        \n",
    "    rewards.append(total_reward)\n",
    "    rewards_window.append(total_reward)\n",
    "\n",
    "    if i >= 100:\n",
    "        avg_reward = np.mean(rewards_window)\n",
    "        if avg_reward > max_avg_reward:\n",
    "            max_avg_reward = avg_reward\n",
    "            agent.save()\n",
    "        if i % 100 == 0:\n",
    "            print(\"Episode {}/{} | Max Average Score: {}\".format(i, n_episodes, max_avg_reward))"
   ]
  },
  {
   "cell_type": "markdown",
   "metadata": {},
   "source": [
    "# Plot"
   ]
  },
  {
   "cell_type": "code",
   "execution_count": 6,
   "metadata": {},
   "outputs": [],
   "source": [
    "import matplotlib.pyplot as plt\n",
    "%matplotlib inline"
   ]
  },
  {
   "cell_type": "code",
   "execution_count": 7,
   "metadata": {},
   "outputs": [
    {
     "data": {
      "image/png": "[encoded data removed]",
      "text/plain": [
       "<Figure size 432x288 with 1 Axes>"
      ]
     },
     "metadata": {
      "needs_background": "light"
     },
     "output_type": "display_data"
    }
   ],
   "source": [
    "fig = plt.figure()\n",
    "ax = fig.add_subplot(111)\n",
    "plt.plot(np.arange(len(rewards)), rewards)\n",
    "plt.ylabel('Reward')\n",
    "plt.xlabel('Episode #')\n",
    "plt.show()"
   ]
  },
  {
   "cell_type": "markdown",
   "metadata": {},
   "source": [
    "# Watch a smart agent"
   ]
  },
  {
   "cell_type": "code",
   "execution_count": 10,
   "metadata": {},
   "outputs": [],
   "source": [
    "agent.Q.load_state_dict(torch.load('agent.pkl'))\n",
    "\n",
    "for i in range(3):\n",
    "    state = env.reset()\n",
    "    for j in range(200):\n",
    "        action = agent.act(transform_state(state))\n",
    "        env.render()\n",
    "        state, reward, done, _ = env.step(action)\n",
    "        if done:\n",
    "            break \n",
    "            \n",
    "env.close()"
   ]
  }
 ],
 "metadata": {
  "kernelspec": {
   "display_name": "Python 3",
   "language": "python",
   "name": "python3"
  },
  "language_info": {
   "codemirror_mode": {
    "name": "ipython",
    "version": 3
   },
   "file_extension": ".py",
   "mimetype": "text/x-python",
   "name": "python",
   "nbconvert_exporter": "python",
   "pygments_lexer": "ipython3",
   "version": "3.7.4"
  }
 },
 "nbformat": 4,
 "nbformat_minor": 2
}
